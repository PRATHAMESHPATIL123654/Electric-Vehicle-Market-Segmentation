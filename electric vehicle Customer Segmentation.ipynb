{
 "cells": [
  {
   "cell_type": "code",
   "execution_count": 1,
   "id": "e20d8cac",
   "metadata": {},
   "outputs": [
    {
     "name": "stderr",
     "output_type": "stream",
     "text": [
      "C:\\Users\\pprat\\anaconda3\\Lib\\site-packages\\pandas\\core\\arrays\\masked.py:60: UserWarning: Pandas requires version '1.3.6' or newer of 'bottleneck' (version '1.3.5' currently installed).\n",
      "  from pandas.core import (\n"
     ]
    }
   ],
   "source": [
    "import pandas as pd\n",
    "import numpy as np\n",
    "import matplotlib.pyplot as plt\n",
    "import seaborn as sns\n",
    "from sklearn.preprocessing import MinMaxScaler\n",
    "from sklearn.cluster import KMeans\n",
    "from sklearn.decomposition import PCA\n",
    "from sklearn.metrics import silhouette_score\n",
    "\n",
    "sns.set()"
   ]
  },
  {
   "cell_type": "code",
   "execution_count": 2,
   "id": "82c1f639",
   "metadata": {},
   "outputs": [],
   "source": [
    "import warnings\n",
    "\n",
    "warnings.filterwarnings('ignore')"
   ]
  },
  {
   "cell_type": "code",
   "execution_count": 3,
   "id": "d46920de",
   "metadata": {},
   "outputs": [],
   "source": [
    "df = pd.read_csv('Indian automoble buying behavour.csv')"
   ]
  },
  {
   "cell_type": "code",
   "execution_count": 4,
   "id": "239a8baa",
   "metadata": {},
   "outputs": [
    {
     "data": {
      "text/html": [
       "<div>\n",
       "<style scoped>\n",
       "    .dataframe tbody tr th:only-of-type {\n",
       "        vertical-align: middle;\n",
       "    }\n",
       "\n",
       "    .dataframe tbody tr th {\n",
       "        vertical-align: top;\n",
       "    }\n",
       "\n",
       "    .dataframe thead th {\n",
       "        text-align: right;\n",
       "    }\n",
       "</style>\n",
       "<table border=\"1\" class=\"dataframe\">\n",
       "  <thead>\n",
       "    <tr style=\"text-align: right;\">\n",
       "      <th></th>\n",
       "      <th>Age</th>\n",
       "      <th>Profession</th>\n",
       "      <th>Marrital Status</th>\n",
       "      <th>Education</th>\n",
       "      <th>No of Dependents</th>\n",
       "      <th>Personal loan</th>\n",
       "      <th>House Loan</th>\n",
       "      <th>Wife Working</th>\n",
       "      <th>Salary</th>\n",
       "      <th>Wife Salary</th>\n",
       "      <th>Total Salary</th>\n",
       "      <th>Make</th>\n",
       "      <th>Price</th>\n",
       "    </tr>\n",
       "  </thead>\n",
       "  <tbody>\n",
       "    <tr>\n",
       "      <th>0</th>\n",
       "      <td>27</td>\n",
       "      <td>Salaried</td>\n",
       "      <td>Single</td>\n",
       "      <td>Post Graduate</td>\n",
       "      <td>0</td>\n",
       "      <td>Yes</td>\n",
       "      <td>No</td>\n",
       "      <td>No</td>\n",
       "      <td>800000</td>\n",
       "      <td>0</td>\n",
       "      <td>800000</td>\n",
       "      <td>i20</td>\n",
       "      <td>800000</td>\n",
       "    </tr>\n",
       "    <tr>\n",
       "      <th>1</th>\n",
       "      <td>35</td>\n",
       "      <td>Salaried</td>\n",
       "      <td>Married</td>\n",
       "      <td>Post Graduate</td>\n",
       "      <td>2</td>\n",
       "      <td>Yes</td>\n",
       "      <td>Yes</td>\n",
       "      <td>Yes</td>\n",
       "      <td>1400000</td>\n",
       "      <td>600000</td>\n",
       "      <td>2000000</td>\n",
       "      <td>Ciaz</td>\n",
       "      <td>1000000</td>\n",
       "    </tr>\n",
       "    <tr>\n",
       "      <th>2</th>\n",
       "      <td>45</td>\n",
       "      <td>Business</td>\n",
       "      <td>Married</td>\n",
       "      <td>Graduate</td>\n",
       "      <td>4</td>\n",
       "      <td>Yes</td>\n",
       "      <td>Yes</td>\n",
       "      <td>No</td>\n",
       "      <td>1800000</td>\n",
       "      <td>0</td>\n",
       "      <td>1800000</td>\n",
       "      <td>Duster</td>\n",
       "      <td>1200000</td>\n",
       "    </tr>\n",
       "    <tr>\n",
       "      <th>3</th>\n",
       "      <td>41</td>\n",
       "      <td>Business</td>\n",
       "      <td>Married</td>\n",
       "      <td>Post Graduate</td>\n",
       "      <td>3</td>\n",
       "      <td>No</td>\n",
       "      <td>No</td>\n",
       "      <td>Yes</td>\n",
       "      <td>1600000</td>\n",
       "      <td>600000</td>\n",
       "      <td>2200000</td>\n",
       "      <td>City</td>\n",
       "      <td>1200000</td>\n",
       "    </tr>\n",
       "    <tr>\n",
       "      <th>4</th>\n",
       "      <td>31</td>\n",
       "      <td>Salaried</td>\n",
       "      <td>Married</td>\n",
       "      <td>Post Graduate</td>\n",
       "      <td>2</td>\n",
       "      <td>Yes</td>\n",
       "      <td>No</td>\n",
       "      <td>Yes</td>\n",
       "      <td>1800000</td>\n",
       "      <td>800000</td>\n",
       "      <td>2600000</td>\n",
       "      <td>SUV</td>\n",
       "      <td>1600000</td>\n",
       "    </tr>\n",
       "  </tbody>\n",
       "</table>\n",
       "</div>"
      ],
      "text/plain": [
       "   Age Profession Marrital Status      Education  No of Dependents  \\\n",
       "0   27   Salaried          Single  Post Graduate                 0   \n",
       "1   35   Salaried         Married  Post Graduate                 2   \n",
       "2   45   Business         Married       Graduate                 4   \n",
       "3   41   Business         Married  Post Graduate                 3   \n",
       "4   31   Salaried         Married  Post Graduate                 2   \n",
       "\n",
       "  Personal loan House Loan Wife Working   Salary  Wife Salary  Total Salary  \\\n",
       "0           Yes         No           No   800000            0        800000   \n",
       "1           Yes        Yes          Yes  1400000       600000       2000000   \n",
       "2           Yes        Yes           No  1800000            0       1800000   \n",
       "3            No         No          Yes  1600000       600000       2200000   \n",
       "4           Yes         No          Yes  1800000       800000       2600000   \n",
       "\n",
       "     Make    Price  \n",
       "0     i20   800000  \n",
       "1    Ciaz  1000000  \n",
       "2  Duster  1200000  \n",
       "3    City  1200000  \n",
       "4     SUV  1600000  "
      ]
     },
     "execution_count": 4,
     "metadata": {},
     "output_type": "execute_result"
    }
   ],
   "source": [
    "df.head()"
   ]
  },
  {
   "cell_type": "code",
   "execution_count": 5,
   "id": "376ee99e",
   "metadata": {},
   "outputs": [
    {
     "name": "stdout",
     "output_type": "stream",
     "text": [
      "<class 'pandas.core.frame.DataFrame'>\n",
      "RangeIndex: 99 entries, 0 to 98\n",
      "Data columns (total 13 columns):\n",
      " #   Column            Non-Null Count  Dtype \n",
      "---  ------            --------------  ----- \n",
      " 0   Age               99 non-null     int64 \n",
      " 1   Profession        99 non-null     object\n",
      " 2   Marrital Status   99 non-null     object\n",
      " 3   Education         99 non-null     object\n",
      " 4   No of Dependents  99 non-null     int64 \n",
      " 5   Personal loan     99 non-null     object\n",
      " 6   House Loan        99 non-null     object\n",
      " 7   Wife Working      99 non-null     object\n",
      " 8   Salary            99 non-null     int64 \n",
      " 9   Wife Salary       99 non-null     int64 \n",
      " 10  Total Salary      99 non-null     int64 \n",
      " 11  Make              99 non-null     object\n",
      " 12  Price             99 non-null     int64 \n",
      "dtypes: int64(6), object(7)\n",
      "memory usage: 10.2+ KB\n"
     ]
    }
   ],
   "source": [
    "df.info()"
   ]
  },
  {
   "cell_type": "markdown",
   "id": "db4535dd",
   "metadata": {},
   "source": [
    "# Distribution of Numerical Variable "
   ]
  },
  {
   "cell_type": "code",
   "execution_count": 6,
   "id": "522b5011",
   "metadata": {},
   "outputs": [
    {
     "data": {
      "image/png": "[encoded data removed]",
      "text/plain": [
       "<Figure size 1200x1200 with 4 Axes>"
      ]
     },
     "metadata": {},
     "output_type": "display_data"
    }
   ],
   "source": [
    "num_cols = [\"Salary\", \"Wife Salary\", \"Total Salary\", \"Price\"]\n",
    "\n",
    "fig, axs = plt.subplots(2, 2, figsize=(12, 12))\n",
    "\n",
    "for i, ax in enumerate(axs.flatten()):\n",
    "    sns.histplot(data=df, x=num_cols[i], ax=ax)\n",
    "plt.suptitle(\"Distribution of Numerical Variables\", y=0.9);"
   ]
  },
  {
   "cell_type": "markdown",
   "id": "cee9e68d",
   "metadata": {},
   "source": [
    ". The Salary of the customers is grouped around 1000000 and 2500000.\n",
    ". Wife's salary for most of the customers is zero. For those whose wife is working the salary is between 500000 and      1500000.\n",
    ". The Total household salary of the customer is between 1000000 and 3000000.\n",
    ". The Price of the cars purchased by the customers range between 500000 to 2000000."
   ]
  },
  {
   "cell_type": "markdown",
   "id": "0dd9d2f5",
   "metadata": {},
   "source": [
    "# Distribution of Profession variable"
   ]
  },
  {
   "cell_type": "code",
   "execution_count": 7,
   "id": "0e197630",
   "metadata": {},
   "outputs": [
    {
     "data": {
      "text/plain": [
       "Text(0, 0.5, 'Count')"
      ]
     },
     "execution_count": 7,
     "metadata": {},
     "output_type": "execute_result"
    },
    {
     "data": {
      "image/png": "[encoded data removed]",
      "text/plain": [
       "<Figure size 1000x600 with 1 Axes>"
      ]
     },
     "metadata": {},
     "output_type": "display_data"
    }
   ],
   "source": [
    "plt.figure(figsize=(10, 6))\n",
    "sns.barplot(x=df[\"Profession\"].value_counts().index, y=df[\"Profession\"].value_counts())\n",
    "\n",
    "# Add a title and labels to the axes.\n",
    "plt.title(\"Distribution of Profession variable\")\n",
    "plt.xlabel(\"Profession\")\n",
    "plt.ylabel(\"Count\")"
   ]
  },
  {
   "cell_type": "markdown",
   "id": "57c4d44f",
   "metadata": {},
   "source": [
    "Around 65% customers are Salaried while 35% have their own business."
   ]
  },
  {
   "cell_type": "markdown",
   "id": "cd950677",
   "metadata": {},
   "source": [
    "# Distribution of Education variable"
   ]
  },
  {
   "cell_type": "code",
   "execution_count": 8,
   "id": "4d1686f0",
   "metadata": {},
   "outputs": [
    {
     "data": {
      "image/png": "[encoded data removed]",
      "text/plain": [
       "<Figure size 1000x600 with 1 Axes>"
      ]
     },
     "metadata": {},
     "output_type": "display_data"
    }
   ],
   "source": [
    "plt.figure(figsize=(10, 6))\n",
    "sns.barplot(x=df[\"Education\"].value_counts().index, y=df[\"Education\"].value_counts())\n",
    "\n",
    "# Add a title and labels to the axes.\n",
    "plt.title(\"Distribution of Education variable\")\n",
    "plt.xlabel(\"Education\")\n",
    "plt.ylabel(\"Count\");"
   ]
  },
  {
   "cell_type": "markdown",
   "id": "a4f2066f",
   "metadata": {},
   "source": [
    "Around 55% customers hold a Post Graduate degree while 35% have a Graduate degree"
   ]
  },
  {
   "cell_type": "markdown",
   "id": "6d2e5ef1",
   "metadata": {},
   "source": [
    "# Distribution of No of Dependents variable"
   ]
  },
  {
   "cell_type": "code",
   "execution_count": 9,
   "id": "624ae953",
   "metadata": {},
   "outputs": [
    {
     "data": {
      "image/png": "[encoded data removed]",
      "text/plain": [
       "<Figure size 1000x600 with 1 Axes>"
      ]
     },
     "metadata": {},
     "output_type": "display_data"
    }
   ],
   "source": [
    "plt.figure(figsize=(10, 6))\n",
    "sns.barplot(x=df[\"No of Dependents\"].value_counts().index, y=df[\"No of Dependents\"].value_counts())\n",
    "\n",
    "# Add a title and labels to the axes.\n",
    "plt.title(\"Distribution of No of Dependents variable\")\n",
    "plt.xlabel(\"No of Dependents\")\n",
    "plt.ylabel(\"Count\");"
   ]
  },
  {
   "cell_type": "markdown",
   "id": "a012698e",
   "metadata": {},
   "source": [
    "Most of the customers have 3 and 2 dependents."
   ]
  },
  {
   "cell_type": "markdown",
   "id": "33665b7b",
   "metadata": {},
   "source": [
    "# Distribution of Personal loan variable"
   ]
  },
  {
   "cell_type": "code",
   "execution_count": 10,
   "id": "688a4c35",
   "metadata": {},
   "outputs": [
    {
     "data": {
      "image/png": "[encoded data removed]",
      "text/plain": [
       "<Figure size 1000x600 with 1 Axes>"
      ]
     },
     "metadata": {},
     "output_type": "display_data"
    }
   ],
   "source": [
    "plt.figure(figsize=(10, 6))\n",
    "sns.barplot(x=df[\"Personal loan\"].value_counts().index, y=df[\"Personal loan\"].value_counts())\n",
    "\n",
    "# Add a title and labels to the axes.\n",
    "plt.title(\"Distribution of Personal loan variable\")\n",
    "plt.xlabel(\"Personal loan\")\n",
    "plt.ylabel(\"Count\");"
   ]
  },
  {
   "cell_type": "markdown",
   "id": "ba6b65da",
   "metadata": {},
   "source": [
    "Around 68% of the customers do not have a personal loan."
   ]
  },
  {
   "cell_type": "markdown",
   "id": "c00e5213",
   "metadata": {},
   "source": [
    "# Distribution of House Loan variable"
   ]
  },
  {
   "cell_type": "code",
   "execution_count": 11,
   "id": "f8e68daf",
   "metadata": {},
   "outputs": [
    {
     "data": {
      "image/png": "[encoded data removed]",
      "text/plain": [
       "<Figure size 1000x600 with 1 Axes>"
      ]
     },
     "metadata": {},
     "output_type": "display_data"
    }
   ],
   "source": [
    "plt.figure(figsize=(10, 6))\n",
    "sns.barplot(x=df[\"House Loan\"].value_counts().index, y=df[\"House Loan\"].value_counts())\n",
    "\n",
    "# Add a title and labels to the axes.\n",
    "plt.title(\"Distribution of House Loan variable\")\n",
    "plt.xlabel(\"House Loan\")\n",
    "plt.ylabel(\"Count\");"
   ]
  },
  {
   "cell_type": "markdown",
   "id": "5e0c2ff9",
   "metadata": {},
   "source": [
    "Around 61% of the customers do not have a house loan."
   ]
  },
  {
   "cell_type": "markdown",
   "id": "0ba12ef3",
   "metadata": {},
   "source": [
    "# Distribution of Wife Working variable"
   ]
  },
  {
   "cell_type": "code",
   "execution_count": 12,
   "id": "bb207eb1",
   "metadata": {},
   "outputs": [
    {
     "data": {
      "image/png": "[encoded data removed]",
      "text/plain": [
       "<Figure size 1000x600 with 1 Axes>"
      ]
     },
     "metadata": {},
     "output_type": "display_data"
    }
   ],
   "source": [
    "plt.figure(figsize=(10, 6))\n",
    "sns.barplot(x=df[\"Wife Working\"].value_counts().index, y=df[\"Wife Working\"].value_counts())\n",
    "\n",
    "# Add a title and labels to the axes.\n",
    "plt.title(\"Distribution of Wife Working variable\")\n",
    "plt.xlabel(\"Wife Working\")\n",
    "plt.ylabel(\"Count\");"
   ]
  },
  {
   "cell_type": "markdown",
   "id": "b55c77e2",
   "metadata": {},
   "source": [
    "Around 52% of the customer's wifes are working. There is a third category \"m\" which seems to be a mistake. We will merge this category with the \"Yes\" category."
   ]
  },
  {
   "cell_type": "markdown",
   "id": "9b3ab830",
   "metadata": {},
   "source": [
    "# Distribution of Make variable"
   ]
  },
  {
   "cell_type": "code",
   "execution_count": 13,
   "id": "71a0325a",
   "metadata": {},
   "outputs": [
    {
     "data": {
      "image/png": "[encoded data removed]",
      "text/plain": [
       "<Figure size 1000x600 with 1 Axes>"
      ]
     },
     "metadata": {},
     "output_type": "display_data"
    }
   ],
   "source": [
    "plt.figure(figsize=(10, 6))\n",
    "sns.barplot(x=df[\"Make\"].value_counts().index, y=df[\"Make\"].value_counts())\n",
    "\n",
    "# Add a title and labels to the axes.\n",
    "plt.title(\"Distribution of Make variable\")\n",
    "plt.xlabel(\"Make\")\n",
    "plt.ylabel(\"Count\");"
   ]
  },
  {
   "cell_type": "markdown",
   "id": "6a0d9162",
   "metadata": {},
   "source": [
    "Most of the customers have purchased SUV and Baleno followed by Creata. Very few customers have bought Luxuray"
   ]
  },
  {
   "cell_type": "markdown",
   "id": "6da0cbfe",
   "metadata": {},
   "source": [
    "# Observations"
   ]
  },
  {
   "cell_type": "markdown",
   "id": "1c7af286",
   "metadata": {},
   "source": [
    "- The salary of the customers is grouped around 1000000 and 2500000 Indian rupees. This suggests that the majority of the customers in the dataset are from the upper-middle class or upper class.\n",
    "- Wife's salary for most of the customers is zero. For those whose wife is working, the salary is between 500000 and 1500000 Indian rupees.\n",
    "- The total household salary of the customer is between 1000000 and 3000000 Indian rupees. This suggests that the majority of the customers in the dataset have a comfortable financial situation.\n",
    "- The price of the cars purchased by the customers range between 500000 and 2000000 Indian rupees. This suggests that the majority of the customers in the dataset have purchased mid-range cars.\n",
    "- Around 65% of the customers are salaried while 35% have their own business. This suggests that the majority of the customers in the dataset are employed professionals.\n",
    "- Most of the customers in the dataset are married. This suggests that the majority of the customers in the dataset are in a stable family situation.\n",
    "- Around 55% of the customers hold a post-graduate degree while 35% have a graduate degree. This suggests that the majority of the customers in the dataset are well-educated.\n",
    "- Most of the customers have 3 and 2 dependents. This suggests that the majority of the customers in the dataset have young families.\n",
    "- Around 68% of the customers do not have a personal loan. This suggests that the majority of the customers in the dataset are able to afford the cars they have purchased without taking out a loan.\n",
    "- Around 61% of the customers do not have a house loan. This suggests that the majority of the customers in the dataset are able to afford to buy a house without taking out a loan.\n",
    "- Around 52% of the customer's wives are working. This suggests that the majority of the wives of the customers in the dataset are employed.\n",
    "- Most of the customers have purchased SUV and Baleno followed by Creata. Very few customers have bought Luxury. This suggests that the majority of the customers in the dataset are interested in practical and fuel-efficient cars."
   ]
  },
  {
   "cell_type": "markdown",
   "id": "c57f0767",
   "metadata": {},
   "source": [
    "# Data Preprocessing "
   ]
  },
  {
   "cell_type": "markdown",
   "id": "b2996c95",
   "metadata": {},
   "source": [
    "# Removing Duplicate values "
   ]
  },
  {
   "cell_type": "code",
   "execution_count": 14,
   "id": "27173871",
   "metadata": {},
   "outputs": [
    {
     "name": "stdout",
     "output_type": "stream",
     "text": [
      "Number of duplicate rows: 0\n"
     ]
    }
   ],
   "source": [
    "\n",
    "print(f\"Number of duplicate rows: {df.duplicated().sum()}\")\n",
    "df.drop_duplicates(inplace=True)"
   ]
  },
  {
   "cell_type": "markdown",
   "id": "b9c86fc0",
   "metadata": {},
   "source": [
    "# Cleaning working wife feature"
   ]
  },
  {
   "cell_type": "code",
   "execution_count": 15,
   "id": "3393d7f5",
   "metadata": {},
   "outputs": [
    {
     "data": {
      "text/plain": [
       "Wife Working\n",
       "Yes    52\n",
       "No     46\n",
       "m       1\n",
       "Name: count, dtype: int64"
      ]
     },
     "execution_count": 15,
     "metadata": {},
     "output_type": "execute_result"
    }
   ],
   "source": [
    "df[\"Wife Working\"].value_counts()"
   ]
  },
  {
   "cell_type": "code",
   "execution_count": 16,
   "id": "3af45a65",
   "metadata": {},
   "outputs": [
    {
     "data": {
      "text/plain": [
       "Wife Working\n",
       "Yes    53\n",
       "No     46\n",
       "Name: count, dtype: int64"
      ]
     },
     "execution_count": 16,
     "metadata": {},
     "output_type": "execute_result"
    }
   ],
   "source": [
    "df[\"Wife Working\"] = df[\"Wife Working\"].replace({\"m\": \"Yes\"})\n",
    "df[\"Wife Working\"].value_counts()"
   ]
  },
  {
   "cell_type": "markdown",
   "id": "171f49e0",
   "metadata": {},
   "source": [
    "# Encoding the Categorical Variables"
   ]
  },
  {
   "cell_type": "code",
   "execution_count": 17,
   "id": "783c936e",
   "metadata": {},
   "outputs": [
    {
     "data": {
      "text/html": [
       "<div>\n",
       "<style scoped>\n",
       "    .dataframe tbody tr th:only-of-type {\n",
       "        vertical-align: middle;\n",
       "    }\n",
       "\n",
       "    .dataframe tbody tr th {\n",
       "        vertical-align: top;\n",
       "    }\n",
       "\n",
       "    .dataframe thead th {\n",
       "        text-align: right;\n",
       "    }\n",
       "</style>\n",
       "<table border=\"1\" class=\"dataframe\">\n",
       "  <thead>\n",
       "    <tr style=\"text-align: right;\">\n",
       "      <th></th>\n",
       "      <th>Age</th>\n",
       "      <th>Profession</th>\n",
       "      <th>Marrital Status</th>\n",
       "      <th>Education</th>\n",
       "      <th>No of Dependents</th>\n",
       "      <th>Personal loan</th>\n",
       "      <th>House Loan</th>\n",
       "      <th>Wife Working</th>\n",
       "      <th>Salary</th>\n",
       "      <th>Wife Salary</th>\n",
       "      <th>Total Salary</th>\n",
       "      <th>Make</th>\n",
       "      <th>Price</th>\n",
       "    </tr>\n",
       "  </thead>\n",
       "  <tbody>\n",
       "    <tr>\n",
       "      <th>0</th>\n",
       "      <td>27</td>\n",
       "      <td>Salaried</td>\n",
       "      <td>Single</td>\n",
       "      <td>Post Graduate</td>\n",
       "      <td>0</td>\n",
       "      <td>Yes</td>\n",
       "      <td>No</td>\n",
       "      <td>No</td>\n",
       "      <td>800000</td>\n",
       "      <td>0</td>\n",
       "      <td>800000</td>\n",
       "      <td>i20</td>\n",
       "      <td>800000</td>\n",
       "    </tr>\n",
       "    <tr>\n",
       "      <th>1</th>\n",
       "      <td>35</td>\n",
       "      <td>Salaried</td>\n",
       "      <td>Married</td>\n",
       "      <td>Post Graduate</td>\n",
       "      <td>2</td>\n",
       "      <td>Yes</td>\n",
       "      <td>Yes</td>\n",
       "      <td>Yes</td>\n",
       "      <td>1400000</td>\n",
       "      <td>600000</td>\n",
       "      <td>2000000</td>\n",
       "      <td>Ciaz</td>\n",
       "      <td>1000000</td>\n",
       "    </tr>\n",
       "    <tr>\n",
       "      <th>2</th>\n",
       "      <td>45</td>\n",
       "      <td>Business</td>\n",
       "      <td>Married</td>\n",
       "      <td>Graduate</td>\n",
       "      <td>4</td>\n",
       "      <td>Yes</td>\n",
       "      <td>Yes</td>\n",
       "      <td>No</td>\n",
       "      <td>1800000</td>\n",
       "      <td>0</td>\n",
       "      <td>1800000</td>\n",
       "      <td>Duster</td>\n",
       "      <td>1200000</td>\n",
       "    </tr>\n",
       "    <tr>\n",
       "      <th>3</th>\n",
       "      <td>41</td>\n",
       "      <td>Business</td>\n",
       "      <td>Married</td>\n",
       "      <td>Post Graduate</td>\n",
       "      <td>3</td>\n",
       "      <td>No</td>\n",
       "      <td>No</td>\n",
       "      <td>Yes</td>\n",
       "      <td>1600000</td>\n",
       "      <td>600000</td>\n",
       "      <td>2200000</td>\n",
       "      <td>City</td>\n",
       "      <td>1200000</td>\n",
       "    </tr>\n",
       "    <tr>\n",
       "      <th>4</th>\n",
       "      <td>31</td>\n",
       "      <td>Salaried</td>\n",
       "      <td>Married</td>\n",
       "      <td>Post Graduate</td>\n",
       "      <td>2</td>\n",
       "      <td>Yes</td>\n",
       "      <td>No</td>\n",
       "      <td>Yes</td>\n",
       "      <td>1800000</td>\n",
       "      <td>800000</td>\n",
       "      <td>2600000</td>\n",
       "      <td>SUV</td>\n",
       "      <td>1600000</td>\n",
       "    </tr>\n",
       "  </tbody>\n",
       "</table>\n",
       "</div>"
      ],
      "text/plain": [
       "   Age Profession Marrital Status      Education  No of Dependents  \\\n",
       "0   27   Salaried          Single  Post Graduate                 0   \n",
       "1   35   Salaried         Married  Post Graduate                 2   \n",
       "2   45   Business         Married       Graduate                 4   \n",
       "3   41   Business         Married  Post Graduate                 3   \n",
       "4   31   Salaried         Married  Post Graduate                 2   \n",
       "\n",
       "  Personal loan House Loan Wife Working   Salary  Wife Salary  Total Salary  \\\n",
       "0           Yes         No           No   800000            0        800000   \n",
       "1           Yes        Yes          Yes  1400000       600000       2000000   \n",
       "2           Yes        Yes           No  1800000            0       1800000   \n",
       "3            No         No          Yes  1600000       600000       2200000   \n",
       "4           Yes         No          Yes  1800000       800000       2600000   \n",
       "\n",
       "     Make    Price  \n",
       "0     i20   800000  \n",
       "1    Ciaz  1000000  \n",
       "2  Duster  1200000  \n",
       "3    City  1200000  \n",
       "4     SUV  1600000  "
      ]
     },
     "execution_count": 17,
     "metadata": {},
     "output_type": "execute_result"
    }
   ],
   "source": [
    "segmentation_df = df.copy()\n",
    "segmentation_df.head()"
   ]
  },
  {
   "cell_type": "code",
   "execution_count": 18,
   "id": "fdf8d9be",
   "metadata": {},
   "outputs": [],
   "source": [
    "segmentation_df = pd.get_dummies(segmentation_df, drop_first=True)"
   ]
  },
  {
   "cell_type": "code",
   "execution_count": 19,
   "id": "4316d5f7",
   "metadata": {},
   "outputs": [
    {
     "data": {
      "text/html": [
       "<div>\n",
       "<style scoped>\n",
       "    .dataframe tbody tr th:only-of-type {\n",
       "        vertical-align: middle;\n",
       "    }\n",
       "\n",
       "    .dataframe tbody tr th {\n",
       "        vertical-align: top;\n",
       "    }\n",
       "\n",
       "    .dataframe thead th {\n",
       "        text-align: right;\n",
       "    }\n",
       "</style>\n",
       "<table border=\"1\" class=\"dataframe\">\n",
       "  <thead>\n",
       "    <tr style=\"text-align: right;\">\n",
       "      <th></th>\n",
       "      <th>Age</th>\n",
       "      <th>No of Dependents</th>\n",
       "      <th>Salary</th>\n",
       "      <th>Wife Salary</th>\n",
       "      <th>Total Salary</th>\n",
       "      <th>Price</th>\n",
       "      <th>Profession_Salaried</th>\n",
       "      <th>Marrital Status_Single</th>\n",
       "      <th>Education_Post Graduate</th>\n",
       "      <th>Personal loan_Yes</th>\n",
       "      <th>House Loan_Yes</th>\n",
       "      <th>Wife Working_Yes</th>\n",
       "      <th>Make_Ciaz</th>\n",
       "      <th>Make_City</th>\n",
       "      <th>Make_Creata</th>\n",
       "      <th>Make_Duster</th>\n",
       "      <th>Make_Luxuray</th>\n",
       "      <th>Make_SUV</th>\n",
       "      <th>Make_Verna</th>\n",
       "      <th>Make_i20</th>\n",
       "    </tr>\n",
       "  </thead>\n",
       "  <tbody>\n",
       "    <tr>\n",
       "      <th>0</th>\n",
       "      <td>27</td>\n",
       "      <td>0</td>\n",
       "      <td>800000</td>\n",
       "      <td>0</td>\n",
       "      <td>800000</td>\n",
       "      <td>800000</td>\n",
       "      <td>True</td>\n",
       "      <td>True</td>\n",
       "      <td>True</td>\n",
       "      <td>True</td>\n",
       "      <td>False</td>\n",
       "      <td>False</td>\n",
       "      <td>False</td>\n",
       "      <td>False</td>\n",
       "      <td>False</td>\n",
       "      <td>False</td>\n",
       "      <td>False</td>\n",
       "      <td>False</td>\n",
       "      <td>False</td>\n",
       "      <td>True</td>\n",
       "    </tr>\n",
       "    <tr>\n",
       "      <th>1</th>\n",
       "      <td>35</td>\n",
       "      <td>2</td>\n",
       "      <td>1400000</td>\n",
       "      <td>600000</td>\n",
       "      <td>2000000</td>\n",
       "      <td>1000000</td>\n",
       "      <td>True</td>\n",
       "      <td>False</td>\n",
       "      <td>True</td>\n",
       "      <td>True</td>\n",
       "      <td>True</td>\n",
       "      <td>True</td>\n",
       "      <td>True</td>\n",
       "      <td>False</td>\n",
       "      <td>False</td>\n",
       "      <td>False</td>\n",
       "      <td>False</td>\n",
       "      <td>False</td>\n",
       "      <td>False</td>\n",
       "      <td>False</td>\n",
       "    </tr>\n",
       "    <tr>\n",
       "      <th>2</th>\n",
       "      <td>45</td>\n",
       "      <td>4</td>\n",
       "      <td>1800000</td>\n",
       "      <td>0</td>\n",
       "      <td>1800000</td>\n",
       "      <td>1200000</td>\n",
       "      <td>False</td>\n",
       "      <td>False</td>\n",
       "      <td>False</td>\n",
       "      <td>True</td>\n",
       "      <td>True</td>\n",
       "      <td>False</td>\n",
       "      <td>False</td>\n",
       "      <td>False</td>\n",
       "      <td>False</td>\n",
       "      <td>True</td>\n",
       "      <td>False</td>\n",
       "      <td>False</td>\n",
       "      <td>False</td>\n",
       "      <td>False</td>\n",
       "    </tr>\n",
       "    <tr>\n",
       "      <th>3</th>\n",
       "      <td>41</td>\n",
       "      <td>3</td>\n",
       "      <td>1600000</td>\n",
       "      <td>600000</td>\n",
       "      <td>2200000</td>\n",
       "      <td>1200000</td>\n",
       "      <td>False</td>\n",
       "      <td>False</td>\n",
       "      <td>True</td>\n",
       "      <td>False</td>\n",
       "      <td>False</td>\n",
       "      <td>True</td>\n",
       "      <td>False</td>\n",
       "      <td>True</td>\n",
       "      <td>False</td>\n",
       "      <td>False</td>\n",
       "      <td>False</td>\n",
       "      <td>False</td>\n",
       "      <td>False</td>\n",
       "      <td>False</td>\n",
       "    </tr>\n",
       "    <tr>\n",
       "      <th>4</th>\n",
       "      <td>31</td>\n",
       "      <td>2</td>\n",
       "      <td>1800000</td>\n",
       "      <td>800000</td>\n",
       "      <td>2600000</td>\n",
       "      <td>1600000</td>\n",
       "      <td>True</td>\n",
       "      <td>False</td>\n",
       "      <td>True</td>\n",
       "      <td>True</td>\n",
       "      <td>False</td>\n",
       "      <td>True</td>\n",
       "      <td>False</td>\n",
       "      <td>False</td>\n",
       "      <td>False</td>\n",
       "      <td>False</td>\n",
       "      <td>False</td>\n",
       "      <td>True</td>\n",
       "      <td>False</td>\n",
       "      <td>False</td>\n",
       "    </tr>\n",
       "    <tr>\n",
       "      <th>...</th>\n",
       "      <td>...</td>\n",
       "      <td>...</td>\n",
       "      <td>...</td>\n",
       "      <td>...</td>\n",
       "      <td>...</td>\n",
       "      <td>...</td>\n",
       "      <td>...</td>\n",
       "      <td>...</td>\n",
       "      <td>...</td>\n",
       "      <td>...</td>\n",
       "      <td>...</td>\n",
       "      <td>...</td>\n",
       "      <td>...</td>\n",
       "      <td>...</td>\n",
       "      <td>...</td>\n",
       "      <td>...</td>\n",
       "      <td>...</td>\n",
       "      <td>...</td>\n",
       "      <td>...</td>\n",
       "      <td>...</td>\n",
       "    </tr>\n",
       "    <tr>\n",
       "      <th>94</th>\n",
       "      <td>27</td>\n",
       "      <td>0</td>\n",
       "      <td>2400000</td>\n",
       "      <td>0</td>\n",
       "      <td>2400000</td>\n",
       "      <td>1600000</td>\n",
       "      <td>False</td>\n",
       "      <td>True</td>\n",
       "      <td>False</td>\n",
       "      <td>False</td>\n",
       "      <td>False</td>\n",
       "      <td>False</td>\n",
       "      <td>False</td>\n",
       "      <td>False</td>\n",
       "      <td>False</td>\n",
       "      <td>False</td>\n",
       "      <td>False</td>\n",
       "      <td>True</td>\n",
       "      <td>False</td>\n",
       "      <td>False</td>\n",
       "    </tr>\n",
       "    <tr>\n",
       "      <th>95</th>\n",
       "      <td>50</td>\n",
       "      <td>3</td>\n",
       "      <td>3800000</td>\n",
       "      <td>1300000</td>\n",
       "      <td>5100000</td>\n",
       "      <td>1600000</td>\n",
       "      <td>True</td>\n",
       "      <td>False</td>\n",
       "      <td>True</td>\n",
       "      <td>False</td>\n",
       "      <td>False</td>\n",
       "      <td>True</td>\n",
       "      <td>False</td>\n",
       "      <td>False</td>\n",
       "      <td>False</td>\n",
       "      <td>False</td>\n",
       "      <td>False</td>\n",
       "      <td>True</td>\n",
       "      <td>False</td>\n",
       "      <td>False</td>\n",
       "    </tr>\n",
       "    <tr>\n",
       "      <th>96</th>\n",
       "      <td>51</td>\n",
       "      <td>2</td>\n",
       "      <td>2200000</td>\n",
       "      <td>0</td>\n",
       "      <td>2200000</td>\n",
       "      <td>1100000</td>\n",
       "      <td>False</td>\n",
       "      <td>False</td>\n",
       "      <td>False</td>\n",
       "      <td>True</td>\n",
       "      <td>True</td>\n",
       "      <td>False</td>\n",
       "      <td>True</td>\n",
       "      <td>False</td>\n",
       "      <td>False</td>\n",
       "      <td>False</td>\n",
       "      <td>False</td>\n",
       "      <td>False</td>\n",
       "      <td>False</td>\n",
       "      <td>False</td>\n",
       "    </tr>\n",
       "    <tr>\n",
       "      <th>97</th>\n",
       "      <td>51</td>\n",
       "      <td>2</td>\n",
       "      <td>2700000</td>\n",
       "      <td>1300000</td>\n",
       "      <td>4000000</td>\n",
       "      <td>1500000</td>\n",
       "      <td>True</td>\n",
       "      <td>False</td>\n",
       "      <td>True</td>\n",
       "      <td>False</td>\n",
       "      <td>False</td>\n",
       "      <td>True</td>\n",
       "      <td>False</td>\n",
       "      <td>False</td>\n",
       "      <td>True</td>\n",
       "      <td>False</td>\n",
       "      <td>False</td>\n",
       "      <td>False</td>\n",
       "      <td>False</td>\n",
       "      <td>False</td>\n",
       "    </tr>\n",
       "    <tr>\n",
       "      <th>98</th>\n",
       "      <td>51</td>\n",
       "      <td>2</td>\n",
       "      <td>2200000</td>\n",
       "      <td>0</td>\n",
       "      <td>2200000</td>\n",
       "      <td>1100000</td>\n",
       "      <td>True</td>\n",
       "      <td>False</td>\n",
       "      <td>True</td>\n",
       "      <td>True</td>\n",
       "      <td>True</td>\n",
       "      <td>False</td>\n",
       "      <td>True</td>\n",
       "      <td>False</td>\n",
       "      <td>False</td>\n",
       "      <td>False</td>\n",
       "      <td>False</td>\n",
       "      <td>False</td>\n",
       "      <td>False</td>\n",
       "      <td>False</td>\n",
       "    </tr>\n",
       "  </tbody>\n",
       "</table>\n",
       "<p>99 rows × 20 columns</p>\n",
       "</div>"
      ],
      "text/plain": [
       "    Age  No of Dependents   Salary  Wife Salary  Total Salary    Price  \\\n",
       "0    27                 0   800000            0        800000   800000   \n",
       "1    35                 2  1400000       600000       2000000  1000000   \n",
       "2    45                 4  1800000            0       1800000  1200000   \n",
       "3    41                 3  1600000       600000       2200000  1200000   \n",
       "4    31                 2  1800000       800000       2600000  1600000   \n",
       "..  ...               ...      ...          ...           ...      ...   \n",
       "94   27                 0  2400000            0       2400000  1600000   \n",
       "95   50                 3  3800000      1300000       5100000  1600000   \n",
       "96   51                 2  2200000            0       2200000  1100000   \n",
       "97   51                 2  2700000      1300000       4000000  1500000   \n",
       "98   51                 2  2200000            0       2200000  1100000   \n",
       "\n",
       "    Profession_Salaried  Marrital Status_Single  Education_Post Graduate  \\\n",
       "0                  True                    True                     True   \n",
       "1                  True                   False                     True   \n",
       "2                 False                   False                    False   \n",
       "3                 False                   False                     True   \n",
       "4                  True                   False                     True   \n",
       "..                  ...                     ...                      ...   \n",
       "94                False                    True                    False   \n",
       "95                 True                   False                     True   \n",
       "96                False                   False                    False   \n",
       "97                 True                   False                     True   \n",
       "98                 True                   False                     True   \n",
       "\n",
       "    Personal loan_Yes  House Loan_Yes  Wife Working_Yes  Make_Ciaz  Make_City  \\\n",
       "0                True           False             False      False      False   \n",
       "1                True            True              True       True      False   \n",
       "2                True            True             False      False      False   \n",
       "3               False           False              True      False       True   \n",
       "4                True           False              True      False      False   \n",
       "..                ...             ...               ...        ...        ...   \n",
       "94              False           False             False      False      False   \n",
       "95              False           False              True      False      False   \n",
       "96               True            True             False       True      False   \n",
       "97              False           False              True      False      False   \n",
       "98               True            True             False       True      False   \n",
       "\n",
       "    Make_Creata  Make_Duster  Make_Luxuray  Make_SUV  Make_Verna  Make_i20  \n",
       "0         False        False         False     False       False      True  \n",
       "1         False        False         False     False       False     False  \n",
       "2         False         True         False     False       False     False  \n",
       "3         False        False         False     False       False     False  \n",
       "4         False        False         False      True       False     False  \n",
       "..          ...          ...           ...       ...         ...       ...  \n",
       "94        False        False         False      True       False     False  \n",
       "95        False        False         False      True       False     False  \n",
       "96        False        False         False     False       False     False  \n",
       "97         True        False         False     False       False     False  \n",
       "98        False        False         False     False       False     False  \n",
       "\n",
       "[99 rows x 20 columns]"
      ]
     },
     "execution_count": 19,
     "metadata": {},
     "output_type": "execute_result"
    }
   ],
   "source": [
    "segmentation_df"
   ]
  },
  {
   "cell_type": "markdown",
   "id": "b9383276",
   "metadata": {},
   "source": [
    "# Scaling the Numerical Variables"
   ]
  },
  {
   "cell_type": "code",
   "execution_count": 20,
   "id": "26762e3e",
   "metadata": {},
   "outputs": [],
   "source": [
    "scale_cols = [\"Age\", \"Salary\", \"Wife Salary\", \"Total Salary\", \"Price\"]\n",
    "\n",
    "scaler = MinMaxScaler()\n",
    "segmentation_df[scale_cols] = scaler.fit_transform(segmentation_df[scale_cols])"
   ]
  },
  {
   "cell_type": "markdown",
   "id": "6c34728b",
   "metadata": {},
   "source": [
    "# Market Segmentaion"
   ]
  },
  {
   "cell_type": "markdown",
   "id": "d5195f4d",
   "metadata": {},
   "source": [
    "# Using Kmeans Clustering"
   ]
  },
  {
   "cell_type": "code",
   "execution_count": 21,
   "id": "c2b43954",
   "metadata": {},
   "outputs": [
    {
     "name": "stdout",
     "output_type": "stream",
     "text": [
      "The Average Silhouette Score for 2 clusters is 0.37118\n",
      "The Average Silhouette Score for 3 clusters is 0.19951\n",
      "The Average Silhouette Score for 4 clusters is 0.17407\n",
      "The Average Silhouette Score for 5 clusters is 0.17012\n",
      "The Average Silhouette Score for 6 clusters is 0.16457\n",
      "The Average Silhouette Score for 7 clusters is 0.13633\n",
      "The Average Silhouette Score for 8 clusters is 0.14789\n",
      "The Average Silhouette Score for 9 clusters is 0.14557\n",
      "The Average Silhouette Score for 10 clusters is 0.14132\n"
     ]
    }
   ],
   "source": [
    "wss = []\n",
    "ss = {1: 0}\n",
    "for i in range(1, 11):\n",
    "    KM = KMeans(n_clusters=i, random_state=0)\n",
    "    KM.fit(segmentation_df)\n",
    "    wss.append(KM.inertia_)\n",
    "    if i > 1:\n",
    "        y = KM.predict(segmentation_df)\n",
    "        s = silhouette_score(segmentation_df, y, random_state=0)\n",
    "        ss[i] = round(s, 5)\n",
    "        print(f\"The Average Silhouette Score for {i} clusters is {round(s, 5)}\")"
   ]
  },
  {
   "cell_type": "markdown",
   "id": "2b72a11d",
   "metadata": {},
   "source": [
    "# ELbow Plot"
   ]
  },
  {
   "cell_type": "code",
   "execution_count": 22,
   "id": "3ef04116",
   "metadata": {},
   "outputs": [
    {
     "data": {
      "image/png": "[encoded data removed]",
      "text/plain": [
       "<Figure size 700x500 with 1 Axes>"
      ]
     },
     "metadata": {},
     "output_type": "display_data"
    }
   ],
   "source": [
    "plt.figure(figsize=(7, 5))\n",
    "sns.pointplot(x=list(range(1, 11)), y=wss)\n",
    "plt.title(\"Elbow Plot\", size=15)\n",
    "plt.xlabel(\"Number of clusters\")\n",
    "plt.ylabel(\"WSS\");"
   ]
  },
  {
   "cell_type": "markdown",
   "id": "5fc0483f",
   "metadata": {},
   "source": [
    "# Silhouette Plot"
   ]
  },
  {
   "cell_type": "code",
   "execution_count": 23,
   "id": "ed8a4532",
   "metadata": {},
   "outputs": [
    {
     "data": {
      "image/png": "[encoded data removed]",
      "text/plain": [
       "<Figure size 1200x400 with 1 Axes>"
      ]
     },
     "metadata": {},
     "output_type": "display_data"
    }
   ],
   "source": [
    "maxkey = [key for key, value in ss.items() if value == max(ss.values())][0]\n",
    "fig, ax = plt.subplots(figsize=(12, 4))\n",
    "sns.pointplot(x=list(ss.keys()), y=list(ss.values()))\n",
    "plt.vlines(x=maxkey - 1, ymax=0, ymin=0.55, linestyles=\"dotted\")\n",
    "ax.set(ylim=(0, 0.5))\n",
    "ax.set_title(\"Silhouette Plot\", size=15)\n",
    "ax.set_xlabel(\"Number of clusters\")\n",
    "ax.set_ylabel(\"Average Silhouette Score\");"
   ]
  },
  {
   "cell_type": "markdown",
   "id": "d02e7901",
   "metadata": {},
   "source": [
    "From both Elbow and Silhouette plot, the optimum number of clusters suggested by the KMean algorithm is 2."
   ]
  },
  {
   "cell_type": "code",
   "execution_count": 24,
   "id": "814f2f49",
   "metadata": {},
   "outputs": [],
   "source": [
    "KM_final = KMeans(n_clusters=2, random_state=0).fit(segmentation_df)\n",
    "km_cluster_no = KM_final.labels_\n",
    "df[\"KMeans Cluster\"] = km_cluster_no"
   ]
  },
  {
   "cell_type": "markdown",
   "id": "174dac54",
   "metadata": {},
   "source": [
    "# Visualizing the Clusters using PCA"
   ]
  },
  {
   "cell_type": "code",
   "execution_count": 25,
   "id": "2e313891",
   "metadata": {},
   "outputs": [
    {
     "data": {
      "image/png": "[encoded data removed]",
      "text/plain": [
       "<Figure size 1000x700 with 1 Axes>"
      ]
     },
     "metadata": {},
     "output_type": "display_data"
    }
   ],
   "source": [
    "pca_2 = PCA(2)\n",
    "plot_columns = pca_2.fit_transform(segmentation_df)\n",
    "plt.figure(figsize=(10, 7))\n",
    "sns.scatterplot(\n",
    "    x=plot_columns[:, 1],\n",
    "    y=plot_columns[:, 0],\n",
    "    hue=km_cluster_no,\n",
    "    palette=\"Dark2_r\",\n",
    "    legend=True,\n",
    ")\n",
    "plt.title(\"Cluster Plot for 2 Clusters\", size=15);"
   ]
  },
  {
   "cell_type": "markdown",
   "id": "1efed50b",
   "metadata": {},
   "source": [
    "The two clusters are clearly separable."
   ]
  },
  {
   "cell_type": "markdown",
   "id": "8c53d97b",
   "metadata": {},
   "source": [
    "# Profiling the segments¶"
   ]
  },
  {
   "cell_type": "code",
   "execution_count": 28,
   "id": "a732098c",
   "metadata": {},
   "outputs": [
    {
     "data": {
      "text/html": [
       "<div>\n",
       "<style scoped>\n",
       "    .dataframe tbody tr th:only-of-type {\n",
       "        vertical-align: middle;\n",
       "    }\n",
       "\n",
       "    .dataframe tbody tr th {\n",
       "        vertical-align: top;\n",
       "    }\n",
       "\n",
       "    .dataframe thead th {\n",
       "        text-align: right;\n",
       "    }\n",
       "</style>\n",
       "<table border=\"1\" class=\"dataframe\">\n",
       "  <thead>\n",
       "    <tr style=\"text-align: right;\">\n",
       "      <th></th>\n",
       "      <th>Age</th>\n",
       "      <th>Profession</th>\n",
       "      <th>Marrital Status</th>\n",
       "      <th>Education</th>\n",
       "      <th>No of Dependents</th>\n",
       "      <th>Personal loan</th>\n",
       "      <th>House Loan</th>\n",
       "      <th>Wife Working</th>\n",
       "      <th>Salary</th>\n",
       "      <th>Wife Salary</th>\n",
       "      <th>Total Salary</th>\n",
       "      <th>Make</th>\n",
       "      <th>Price</th>\n",
       "      <th>KMeans Cluster</th>\n",
       "    </tr>\n",
       "  </thead>\n",
       "  <tbody>\n",
       "    <tr>\n",
       "      <th>0</th>\n",
       "      <td>27</td>\n",
       "      <td>Salaried</td>\n",
       "      <td>Single</td>\n",
       "      <td>Post Graduate</td>\n",
       "      <td>0</td>\n",
       "      <td>Yes</td>\n",
       "      <td>No</td>\n",
       "      <td>No</td>\n",
       "      <td>800000</td>\n",
       "      <td>0</td>\n",
       "      <td>800000</td>\n",
       "      <td>i20</td>\n",
       "      <td>800000</td>\n",
       "      <td>1</td>\n",
       "    </tr>\n",
       "    <tr>\n",
       "      <th>1</th>\n",
       "      <td>35</td>\n",
       "      <td>Salaried</td>\n",
       "      <td>Married</td>\n",
       "      <td>Post Graduate</td>\n",
       "      <td>2</td>\n",
       "      <td>Yes</td>\n",
       "      <td>Yes</td>\n",
       "      <td>Yes</td>\n",
       "      <td>1400000</td>\n",
       "      <td>600000</td>\n",
       "      <td>2000000</td>\n",
       "      <td>Ciaz</td>\n",
       "      <td>1000000</td>\n",
       "      <td>0</td>\n",
       "    </tr>\n",
       "    <tr>\n",
       "      <th>2</th>\n",
       "      <td>45</td>\n",
       "      <td>Business</td>\n",
       "      <td>Married</td>\n",
       "      <td>Graduate</td>\n",
       "      <td>4</td>\n",
       "      <td>Yes</td>\n",
       "      <td>Yes</td>\n",
       "      <td>No</td>\n",
       "      <td>1800000</td>\n",
       "      <td>0</td>\n",
       "      <td>1800000</td>\n",
       "      <td>Duster</td>\n",
       "      <td>1200000</td>\n",
       "      <td>0</td>\n",
       "    </tr>\n",
       "    <tr>\n",
       "      <th>3</th>\n",
       "      <td>41</td>\n",
       "      <td>Business</td>\n",
       "      <td>Married</td>\n",
       "      <td>Post Graduate</td>\n",
       "      <td>3</td>\n",
       "      <td>No</td>\n",
       "      <td>No</td>\n",
       "      <td>Yes</td>\n",
       "      <td>1600000</td>\n",
       "      <td>600000</td>\n",
       "      <td>2200000</td>\n",
       "      <td>City</td>\n",
       "      <td>1200000</td>\n",
       "      <td>0</td>\n",
       "    </tr>\n",
       "    <tr>\n",
       "      <th>4</th>\n",
       "      <td>31</td>\n",
       "      <td>Salaried</td>\n",
       "      <td>Married</td>\n",
       "      <td>Post Graduate</td>\n",
       "      <td>2</td>\n",
       "      <td>Yes</td>\n",
       "      <td>No</td>\n",
       "      <td>Yes</td>\n",
       "      <td>1800000</td>\n",
       "      <td>800000</td>\n",
       "      <td>2600000</td>\n",
       "      <td>SUV</td>\n",
       "      <td>1600000</td>\n",
       "      <td>0</td>\n",
       "    </tr>\n",
       "  </tbody>\n",
       "</table>\n",
       "</div>"
      ],
      "text/plain": [
       "   Age Profession Marrital Status      Education  No of Dependents  \\\n",
       "0   27   Salaried          Single  Post Graduate                 0   \n",
       "1   35   Salaried         Married  Post Graduate                 2   \n",
       "2   45   Business         Married       Graduate                 4   \n",
       "3   41   Business         Married  Post Graduate                 3   \n",
       "4   31   Salaried         Married  Post Graduate                 2   \n",
       "\n",
       "  Personal loan House Loan Wife Working   Salary  Wife Salary  Total Salary  \\\n",
       "0           Yes         No           No   800000            0        800000   \n",
       "1           Yes        Yes          Yes  1400000       600000       2000000   \n",
       "2           Yes        Yes           No  1800000            0       1800000   \n",
       "3            No         No          Yes  1600000       600000       2200000   \n",
       "4           Yes         No          Yes  1800000       800000       2600000   \n",
       "\n",
       "     Make    Price  KMeans Cluster  \n",
       "0     i20   800000               1  \n",
       "1    Ciaz  1000000               0  \n",
       "2  Duster  1200000               0  \n",
       "3    City  1200000               0  \n",
       "4     SUV  1600000               0  "
      ]
     },
     "execution_count": 28,
     "metadata": {},
     "output_type": "execute_result"
    }
   ],
   "source": [
    "df.head()"
   ]
  },
  {
   "cell_type": "code",
   "execution_count": 27,
   "id": "589a3556",
   "metadata": {},
   "outputs": [
    {
     "data": {
      "text/plain": [
       "KMeans Cluster\n",
       "0    77\n",
       "1    22\n",
       "Name: count, dtype: int64"
      ]
     },
     "execution_count": 27,
     "metadata": {},
     "output_type": "execute_result"
    }
   ],
   "source": [
    "df[\"KMeans Cluster\"].value_counts()"
   ]
  },
  {
   "cell_type": "markdown",
   "id": "1a109498",
   "metadata": {},
   "source": [
    "There are 77 customers in the first segment while only 22 customers in the second segment."
   ]
  },
  {
   "cell_type": "code",
   "execution_count": 29,
   "id": "4da789a7",
   "metadata": {},
   "outputs": [],
   "source": [
    "cluster_0_data = df[df[\"KMeans Cluster\"] == 0]\n",
    "cluster_1_data = df[df[\"KMeans Cluster\"] == 1]"
   ]
  },
  {
   "cell_type": "code",
   "execution_count": 30,
   "id": "6e250346",
   "metadata": {},
   "outputs": [
    {
     "data": {
      "text/html": [
       "<div>\n",
       "<style scoped>\n",
       "    .dataframe tbody tr th:only-of-type {\n",
       "        vertical-align: middle;\n",
       "    }\n",
       "\n",
       "    .dataframe tbody tr th {\n",
       "        vertical-align: top;\n",
       "    }\n",
       "\n",
       "    .dataframe thead th {\n",
       "        text-align: right;\n",
       "    }\n",
       "</style>\n",
       "<table border=\"1\" class=\"dataframe\">\n",
       "  <thead>\n",
       "    <tr style=\"text-align: right;\">\n",
       "      <th></th>\n",
       "      <th>Age</th>\n",
       "      <th>Profession</th>\n",
       "      <th>Marrital Status</th>\n",
       "      <th>Education</th>\n",
       "      <th>No of Dependents</th>\n",
       "      <th>Personal loan</th>\n",
       "      <th>House Loan</th>\n",
       "      <th>Wife Working</th>\n",
       "      <th>Salary</th>\n",
       "      <th>Wife Salary</th>\n",
       "      <th>Total Salary</th>\n",
       "      <th>Make</th>\n",
       "      <th>Price</th>\n",
       "      <th>KMeans Cluster</th>\n",
       "    </tr>\n",
       "  </thead>\n",
       "  <tbody>\n",
       "    <tr>\n",
       "      <th>count</th>\n",
       "      <td>77.000000</td>\n",
       "      <td>77</td>\n",
       "      <td>77</td>\n",
       "      <td>77</td>\n",
       "      <td>77.000000</td>\n",
       "      <td>77</td>\n",
       "      <td>77</td>\n",
       "      <td>77</td>\n",
       "      <td>7.700000e+01</td>\n",
       "      <td>7.700000e+01</td>\n",
       "      <td>7.700000e+01</td>\n",
       "      <td>77</td>\n",
       "      <td>7.700000e+01</td>\n",
       "      <td>77.0</td>\n",
       "    </tr>\n",
       "    <tr>\n",
       "      <th>unique</th>\n",
       "      <td>NaN</td>\n",
       "      <td>2</td>\n",
       "      <td>2</td>\n",
       "      <td>2</td>\n",
       "      <td>NaN</td>\n",
       "      <td>2</td>\n",
       "      <td>2</td>\n",
       "      <td>2</td>\n",
       "      <td>NaN</td>\n",
       "      <td>NaN</td>\n",
       "      <td>NaN</td>\n",
       "      <td>9</td>\n",
       "      <td>NaN</td>\n",
       "      <td>NaN</td>\n",
       "    </tr>\n",
       "    <tr>\n",
       "      <th>top</th>\n",
       "      <td>NaN</td>\n",
       "      <td>Salaried</td>\n",
       "      <td>Married</td>\n",
       "      <td>Post Graduate</td>\n",
       "      <td>NaN</td>\n",
       "      <td>No</td>\n",
       "      <td>No</td>\n",
       "      <td>Yes</td>\n",
       "      <td>NaN</td>\n",
       "      <td>NaN</td>\n",
       "      <td>NaN</td>\n",
       "      <td>SUV</td>\n",
       "      <td>NaN</td>\n",
       "      <td>NaN</td>\n",
       "    </tr>\n",
       "    <tr>\n",
       "      <th>freq</th>\n",
       "      <td>NaN</td>\n",
       "      <td>50</td>\n",
       "      <td>75</td>\n",
       "      <td>44</td>\n",
       "      <td>NaN</td>\n",
       "      <td>49</td>\n",
       "      <td>40</td>\n",
       "      <td>44</td>\n",
       "      <td>NaN</td>\n",
       "      <td>NaN</td>\n",
       "      <td>NaN</td>\n",
       "      <td>14</td>\n",
       "      <td>NaN</td>\n",
       "      <td>NaN</td>\n",
       "    </tr>\n",
       "    <tr>\n",
       "      <th>mean</th>\n",
       "      <td>38.272727</td>\n",
       "      <td>NaN</td>\n",
       "      <td>NaN</td>\n",
       "      <td>NaN</td>\n",
       "      <td>2.805195</td>\n",
       "      <td>NaN</td>\n",
       "      <td>NaN</td>\n",
       "      <td>NaN</td>\n",
       "      <td>1.877922e+06</td>\n",
       "      <td>6.064935e+05</td>\n",
       "      <td>2.484416e+06</td>\n",
       "      <td>NaN</td>\n",
       "      <td>1.227273e+06</td>\n",
       "      <td>0.0</td>\n",
       "    </tr>\n",
       "    <tr>\n",
       "      <th>std</th>\n",
       "      <td>5.557443</td>\n",
       "      <td>NaN</td>\n",
       "      <td>NaN</td>\n",
       "      <td>NaN</td>\n",
       "      <td>0.726183</td>\n",
       "      <td>NaN</td>\n",
       "      <td>NaN</td>\n",
       "      <td>NaN</td>\n",
       "      <td>6.687820e+05</td>\n",
       "      <td>6.372923e+05</td>\n",
       "      <td>1.061908e+06</td>\n",
       "      <td>NaN</td>\n",
       "      <td>4.408832e+05</td>\n",
       "      <td>0.0</td>\n",
       "    </tr>\n",
       "    <tr>\n",
       "      <th>min</th>\n",
       "      <td>28.000000</td>\n",
       "      <td>NaN</td>\n",
       "      <td>NaN</td>\n",
       "      <td>NaN</td>\n",
       "      <td>2.000000</td>\n",
       "      <td>NaN</td>\n",
       "      <td>NaN</td>\n",
       "      <td>NaN</td>\n",
       "      <td>2.000000e+05</td>\n",
       "      <td>0.000000e+00</td>\n",
       "      <td>2.000000e+05</td>\n",
       "      <td>NaN</td>\n",
       "      <td>7.000000e+05</td>\n",
       "      <td>0.0</td>\n",
       "    </tr>\n",
       "    <tr>\n",
       "      <th>25%</th>\n",
       "      <td>35.000000</td>\n",
       "      <td>NaN</td>\n",
       "      <td>NaN</td>\n",
       "      <td>NaN</td>\n",
       "      <td>2.000000</td>\n",
       "      <td>NaN</td>\n",
       "      <td>NaN</td>\n",
       "      <td>NaN</td>\n",
       "      <td>1.400000e+06</td>\n",
       "      <td>0.000000e+00</td>\n",
       "      <td>1.800000e+06</td>\n",
       "      <td>NaN</td>\n",
       "      <td>8.000000e+05</td>\n",
       "      <td>0.0</td>\n",
       "    </tr>\n",
       "    <tr>\n",
       "      <th>50%</th>\n",
       "      <td>36.000000</td>\n",
       "      <td>NaN</td>\n",
       "      <td>NaN</td>\n",
       "      <td>NaN</td>\n",
       "      <td>3.000000</td>\n",
       "      <td>NaN</td>\n",
       "      <td>NaN</td>\n",
       "      <td>NaN</td>\n",
       "      <td>1.800000e+06</td>\n",
       "      <td>6.000000e+05</td>\n",
       "      <td>2.200000e+06</td>\n",
       "      <td>NaN</td>\n",
       "      <td>1.200000e+06</td>\n",
       "      <td>0.0</td>\n",
       "    </tr>\n",
       "    <tr>\n",
       "      <th>75%</th>\n",
       "      <td>42.000000</td>\n",
       "      <td>NaN</td>\n",
       "      <td>NaN</td>\n",
       "      <td>NaN</td>\n",
       "      <td>3.000000</td>\n",
       "      <td>NaN</td>\n",
       "      <td>NaN</td>\n",
       "      <td>NaN</td>\n",
       "      <td>2.300000e+06</td>\n",
       "      <td>1.100000e+06</td>\n",
       "      <td>3.000000e+06</td>\n",
       "      <td>NaN</td>\n",
       "      <td>1.500000e+06</td>\n",
       "      <td>0.0</td>\n",
       "    </tr>\n",
       "    <tr>\n",
       "      <th>max</th>\n",
       "      <td>51.000000</td>\n",
       "      <td>NaN</td>\n",
       "      <td>NaN</td>\n",
       "      <td>NaN</td>\n",
       "      <td>4.000000</td>\n",
       "      <td>NaN</td>\n",
       "      <td>NaN</td>\n",
       "      <td>NaN</td>\n",
       "      <td>3.800000e+06</td>\n",
       "      <td>2.100000e+06</td>\n",
       "      <td>5.200000e+06</td>\n",
       "      <td>NaN</td>\n",
       "      <td>3.000000e+06</td>\n",
       "      <td>0.0</td>\n",
       "    </tr>\n",
       "  </tbody>\n",
       "</table>\n",
       "</div>"
      ],
      "text/plain": [
       "              Age Profession Marrital Status      Education  No of Dependents  \\\n",
       "count   77.000000         77              77             77         77.000000   \n",
       "unique        NaN          2               2              2               NaN   \n",
       "top           NaN   Salaried         Married  Post Graduate               NaN   \n",
       "freq          NaN         50              75             44               NaN   \n",
       "mean    38.272727        NaN             NaN            NaN          2.805195   \n",
       "std      5.557443        NaN             NaN            NaN          0.726183   \n",
       "min     28.000000        NaN             NaN            NaN          2.000000   \n",
       "25%     35.000000        NaN             NaN            NaN          2.000000   \n",
       "50%     36.000000        NaN             NaN            NaN          3.000000   \n",
       "75%     42.000000        NaN             NaN            NaN          3.000000   \n",
       "max     51.000000        NaN             NaN            NaN          4.000000   \n",
       "\n",
       "       Personal loan House Loan Wife Working        Salary   Wife Salary  \\\n",
       "count             77         77           77  7.700000e+01  7.700000e+01   \n",
       "unique             2          2            2           NaN           NaN   \n",
       "top               No         No          Yes           NaN           NaN   \n",
       "freq              49         40           44           NaN           NaN   \n",
       "mean             NaN        NaN          NaN  1.877922e+06  6.064935e+05   \n",
       "std              NaN        NaN          NaN  6.687820e+05  6.372923e+05   \n",
       "min              NaN        NaN          NaN  2.000000e+05  0.000000e+00   \n",
       "25%              NaN        NaN          NaN  1.400000e+06  0.000000e+00   \n",
       "50%              NaN        NaN          NaN  1.800000e+06  6.000000e+05   \n",
       "75%              NaN        NaN          NaN  2.300000e+06  1.100000e+06   \n",
       "max              NaN        NaN          NaN  3.800000e+06  2.100000e+06   \n",
       "\n",
       "        Total Salary Make         Price  KMeans Cluster  \n",
       "count   7.700000e+01   77  7.700000e+01            77.0  \n",
       "unique           NaN    9           NaN             NaN  \n",
       "top              NaN  SUV           NaN             NaN  \n",
       "freq             NaN   14           NaN             NaN  \n",
       "mean    2.484416e+06  NaN  1.227273e+06             0.0  \n",
       "std     1.061908e+06  NaN  4.408832e+05             0.0  \n",
       "min     2.000000e+05  NaN  7.000000e+05             0.0  \n",
       "25%     1.800000e+06  NaN  8.000000e+05             0.0  \n",
       "50%     2.200000e+06  NaN  1.200000e+06             0.0  \n",
       "75%     3.000000e+06  NaN  1.500000e+06             0.0  \n",
       "max     5.200000e+06  NaN  3.000000e+06             0.0  "
      ]
     },
     "execution_count": 30,
     "metadata": {},
     "output_type": "execute_result"
    }
   ],
   "source": [
    "cluster_0_data.describe(include=\"all\")"
   ]
  },
  {
   "cell_type": "markdown",
   "id": "d4077836",
   "metadata": {},
   "source": [
    "# For cluster 1:\n",
    "\n",
    "- The average age of the buyers in the cluster is 30.\n",
    "- The most common profession of the buyers in the cluster is salaried, followed by business.\n",
    "- Most of the buyers in the cluster are single.\n",
    "- The most common level of education of the buyers in the cluster is Post Graduate, followed by Graduate.\n",
    "- The average number of dependents of the buyers in the cluster is 0.\n",
    "- The most common loan type of the buyers in the cluster is no loan.\n",
    "- The most common wife working status of the buyers in the cluster is no.\n",
    "- The average salary of the buyers in the cluster is around 1300000 Indian rupees.\n",
    "- The average wife salary of the buyers in the cluster is 300000 Indian rupees.\n",
    "- The average total salary of the buyers in the cluster is 1600000 Indian rupees.\n",
    "- The most popular make of car purchased by the buyers in the cluster is Baleno, followed by Ciaz and Creata.\n",
    "- The average price of the cars purchased by the buyers in the cluster is 1100000 Indian rupees.\n",
    "- These observations suggest that the first cluster is made up of young, educated, and well-paid professionals who are looking for affordable cars. The most popular cars in the cluster are hatchbacks and sedans, which are practical and fuel-efficient."
   ]
  },
  {
   "cell_type": "code",
   "execution_count": 31,
   "id": "23a18edd",
   "metadata": {},
   "outputs": [
    {
     "data": {
      "text/html": [
       "<div>\n",
       "<style scoped>\n",
       "    .dataframe tbody tr th:only-of-type {\n",
       "        vertical-align: middle;\n",
       "    }\n",
       "\n",
       "    .dataframe tbody tr th {\n",
       "        vertical-align: top;\n",
       "    }\n",
       "\n",
       "    .dataframe thead th {\n",
       "        text-align: right;\n",
       "    }\n",
       "</style>\n",
       "<table border=\"1\" class=\"dataframe\">\n",
       "  <thead>\n",
       "    <tr style=\"text-align: right;\">\n",
       "      <th></th>\n",
       "      <th>Age</th>\n",
       "      <th>Profession</th>\n",
       "      <th>Marrital Status</th>\n",
       "      <th>Education</th>\n",
       "      <th>No of Dependents</th>\n",
       "      <th>Personal loan</th>\n",
       "      <th>House Loan</th>\n",
       "      <th>Wife Working</th>\n",
       "      <th>Salary</th>\n",
       "      <th>Wife Salary</th>\n",
       "      <th>Total Salary</th>\n",
       "      <th>Make</th>\n",
       "      <th>Price</th>\n",
       "      <th>KMeans Cluster</th>\n",
       "    </tr>\n",
       "  </thead>\n",
       "  <tbody>\n",
       "    <tr>\n",
       "      <th>count</th>\n",
       "      <td>22.000000</td>\n",
       "      <td>22</td>\n",
       "      <td>22</td>\n",
       "      <td>22</td>\n",
       "      <td>22.0</td>\n",
       "      <td>22</td>\n",
       "      <td>22</td>\n",
       "      <td>22</td>\n",
       "      <td>2.200000e+01</td>\n",
       "      <td>2.200000e+01</td>\n",
       "      <td>2.200000e+01</td>\n",
       "      <td>22</td>\n",
       "      <td>2.200000e+01</td>\n",
       "      <td>22.0</td>\n",
       "    </tr>\n",
       "    <tr>\n",
       "      <th>unique</th>\n",
       "      <td>NaN</td>\n",
       "      <td>2</td>\n",
       "      <td>2</td>\n",
       "      <td>2</td>\n",
       "      <td>NaN</td>\n",
       "      <td>2</td>\n",
       "      <td>1</td>\n",
       "      <td>2</td>\n",
       "      <td>NaN</td>\n",
       "      <td>NaN</td>\n",
       "      <td>NaN</td>\n",
       "      <td>7</td>\n",
       "      <td>NaN</td>\n",
       "      <td>NaN</td>\n",
       "    </tr>\n",
       "    <tr>\n",
       "      <th>top</th>\n",
       "      <td>NaN</td>\n",
       "      <td>Salaried</td>\n",
       "      <td>Single</td>\n",
       "      <td>Post Graduate</td>\n",
       "      <td>NaN</td>\n",
       "      <td>No</td>\n",
       "      <td>No</td>\n",
       "      <td>No</td>\n",
       "      <td>NaN</td>\n",
       "      <td>NaN</td>\n",
       "      <td>NaN</td>\n",
       "      <td>Baleno</td>\n",
       "      <td>NaN</td>\n",
       "      <td>NaN</td>\n",
       "    </tr>\n",
       "    <tr>\n",
       "      <th>freq</th>\n",
       "      <td>NaN</td>\n",
       "      <td>14</td>\n",
       "      <td>13</td>\n",
       "      <td>12</td>\n",
       "      <td>NaN</td>\n",
       "      <td>18</td>\n",
       "      <td>22</td>\n",
       "      <td>13</td>\n",
       "      <td>NaN</td>\n",
       "      <td>NaN</td>\n",
       "      <td>NaN</td>\n",
       "      <td>6</td>\n",
       "      <td>NaN</td>\n",
       "      <td>NaN</td>\n",
       "    </tr>\n",
       "    <tr>\n",
       "      <th>mean</th>\n",
       "      <td>29.454545</td>\n",
       "      <td>NaN</td>\n",
       "      <td>NaN</td>\n",
       "      <td>NaN</td>\n",
       "      <td>0.0</td>\n",
       "      <td>NaN</td>\n",
       "      <td>NaN</td>\n",
       "      <td>NaN</td>\n",
       "      <td>1.240909e+06</td>\n",
       "      <td>2.818182e+05</td>\n",
       "      <td>1.522727e+06</td>\n",
       "      <td>NaN</td>\n",
       "      <td>1.077727e+06</td>\n",
       "      <td>1.0</td>\n",
       "    </tr>\n",
       "    <tr>\n",
       "      <th>std</th>\n",
       "      <td>2.631807</td>\n",
       "      <td>NaN</td>\n",
       "      <td>NaN</td>\n",
       "      <td>NaN</td>\n",
       "      <td>0.0</td>\n",
       "      <td>NaN</td>\n",
       "      <td>NaN</td>\n",
       "      <td>NaN</td>\n",
       "      <td>4.101789e+05</td>\n",
       "      <td>3.935629e+05</td>\n",
       "      <td>5.639418e+05</td>\n",
       "      <td>NaN</td>\n",
       "      <td>4.151412e+05</td>\n",
       "      <td>0.0</td>\n",
       "    </tr>\n",
       "    <tr>\n",
       "      <th>min</th>\n",
       "      <td>26.000000</td>\n",
       "      <td>NaN</td>\n",
       "      <td>NaN</td>\n",
       "      <td>NaN</td>\n",
       "      <td>0.0</td>\n",
       "      <td>NaN</td>\n",
       "      <td>NaN</td>\n",
       "      <td>NaN</td>\n",
       "      <td>8.000000e+05</td>\n",
       "      <td>0.000000e+00</td>\n",
       "      <td>8.000000e+05</td>\n",
       "      <td>NaN</td>\n",
       "      <td>1.100000e+05</td>\n",
       "      <td>1.0</td>\n",
       "    </tr>\n",
       "    <tr>\n",
       "      <th>25%</th>\n",
       "      <td>27.000000</td>\n",
       "      <td>NaN</td>\n",
       "      <td>NaN</td>\n",
       "      <td>NaN</td>\n",
       "      <td>0.0</td>\n",
       "      <td>NaN</td>\n",
       "      <td>NaN</td>\n",
       "      <td>NaN</td>\n",
       "      <td>9.000000e+05</td>\n",
       "      <td>0.000000e+00</td>\n",
       "      <td>1.100000e+06</td>\n",
       "      <td>NaN</td>\n",
       "      <td>7.000000e+05</td>\n",
       "      <td>1.0</td>\n",
       "    </tr>\n",
       "    <tr>\n",
       "      <th>50%</th>\n",
       "      <td>29.000000</td>\n",
       "      <td>NaN</td>\n",
       "      <td>NaN</td>\n",
       "      <td>NaN</td>\n",
       "      <td>0.0</td>\n",
       "      <td>NaN</td>\n",
       "      <td>NaN</td>\n",
       "      <td>NaN</td>\n",
       "      <td>1.250000e+06</td>\n",
       "      <td>0.000000e+00</td>\n",
       "      <td>1.400000e+06</td>\n",
       "      <td>NaN</td>\n",
       "      <td>1.100000e+06</td>\n",
       "      <td>1.0</td>\n",
       "    </tr>\n",
       "    <tr>\n",
       "      <th>75%</th>\n",
       "      <td>30.750000</td>\n",
       "      <td>NaN</td>\n",
       "      <td>NaN</td>\n",
       "      <td>NaN</td>\n",
       "      <td>0.0</td>\n",
       "      <td>NaN</td>\n",
       "      <td>NaN</td>\n",
       "      <td>NaN</td>\n",
       "      <td>1.400000e+06</td>\n",
       "      <td>7.000000e+05</td>\n",
       "      <td>2.000000e+06</td>\n",
       "      <td>NaN</td>\n",
       "      <td>1.500000e+06</td>\n",
       "      <td>1.0</td>\n",
       "    </tr>\n",
       "    <tr>\n",
       "      <th>max</th>\n",
       "      <td>36.000000</td>\n",
       "      <td>NaN</td>\n",
       "      <td>NaN</td>\n",
       "      <td>NaN</td>\n",
       "      <td>0.0</td>\n",
       "      <td>NaN</td>\n",
       "      <td>NaN</td>\n",
       "      <td>NaN</td>\n",
       "      <td>2.400000e+06</td>\n",
       "      <td>1.100000e+06</td>\n",
       "      <td>2.500000e+06</td>\n",
       "      <td>NaN</td>\n",
       "      <td>1.600000e+06</td>\n",
       "      <td>1.0</td>\n",
       "    </tr>\n",
       "  </tbody>\n",
       "</table>\n",
       "</div>"
      ],
      "text/plain": [
       "              Age Profession Marrital Status      Education  No of Dependents  \\\n",
       "count   22.000000         22              22             22              22.0   \n",
       "unique        NaN          2               2              2               NaN   \n",
       "top           NaN   Salaried          Single  Post Graduate               NaN   \n",
       "freq          NaN         14              13             12               NaN   \n",
       "mean    29.454545        NaN             NaN            NaN               0.0   \n",
       "std      2.631807        NaN             NaN            NaN               0.0   \n",
       "min     26.000000        NaN             NaN            NaN               0.0   \n",
       "25%     27.000000        NaN             NaN            NaN               0.0   \n",
       "50%     29.000000        NaN             NaN            NaN               0.0   \n",
       "75%     30.750000        NaN             NaN            NaN               0.0   \n",
       "max     36.000000        NaN             NaN            NaN               0.0   \n",
       "\n",
       "       Personal loan House Loan Wife Working        Salary   Wife Salary  \\\n",
       "count             22         22           22  2.200000e+01  2.200000e+01   \n",
       "unique             2          1            2           NaN           NaN   \n",
       "top               No         No           No           NaN           NaN   \n",
       "freq              18         22           13           NaN           NaN   \n",
       "mean             NaN        NaN          NaN  1.240909e+06  2.818182e+05   \n",
       "std              NaN        NaN          NaN  4.101789e+05  3.935629e+05   \n",
       "min              NaN        NaN          NaN  8.000000e+05  0.000000e+00   \n",
       "25%              NaN        NaN          NaN  9.000000e+05  0.000000e+00   \n",
       "50%              NaN        NaN          NaN  1.250000e+06  0.000000e+00   \n",
       "75%              NaN        NaN          NaN  1.400000e+06  7.000000e+05   \n",
       "max              NaN        NaN          NaN  2.400000e+06  1.100000e+06   \n",
       "\n",
       "        Total Salary    Make         Price  KMeans Cluster  \n",
       "count   2.200000e+01      22  2.200000e+01            22.0  \n",
       "unique           NaN       7           NaN             NaN  \n",
       "top              NaN  Baleno           NaN             NaN  \n",
       "freq             NaN       6           NaN             NaN  \n",
       "mean    1.522727e+06     NaN  1.077727e+06             1.0  \n",
       "std     5.639418e+05     NaN  4.151412e+05             0.0  \n",
       "min     8.000000e+05     NaN  1.100000e+05             1.0  \n",
       "25%     1.100000e+06     NaN  7.000000e+05             1.0  \n",
       "50%     1.400000e+06     NaN  1.100000e+06             1.0  \n",
       "75%     2.000000e+06     NaN  1.500000e+06             1.0  \n",
       "max     2.500000e+06     NaN  1.600000e+06             1.0  "
      ]
     },
     "execution_count": 31,
     "metadata": {},
     "output_type": "execute_result"
    }
   ],
   "source": [
    "cluster_1_data.describe(include=\"all\")"
   ]
  },
  {
   "cell_type": "markdown",
   "id": "11eb28c3",
   "metadata": {},
   "source": [
    "# For cluster 2:\n",
    "\n",
    "- The average age of the buyers in the cluster is around 40.\n",
    "- The most common profession of the buyers in the cluster is salaried, followed by business.\n",
    "- Most of the buyers in the cluster are married.\n",
    "- The most common level of education of the buyers in the cluster is Post Graduate.\n",
    "- The average number of dependents of the buyers in the cluster is 3.\n",
    "- The most common loan type of the buyers in the cluster is no loan.\n",
    "- The most common wife working status of the buyers in the cluster is yes.\n",
    "- The average salary of the buyers in the cluster is 1900000 Indian rupees.\n",
    "- The average wife salary of the buyers in the cluster is 600000 Indian rupees.\n",
    "- The average total salary of the buyers in the cluster is 2500000 Indian rupees.\n",
    "- The most popular make of car purchased by the buyers in the cluster is SUV.\n",
    "- The average price of the cars purchased by the buyers in the cluster is 1200000 Indian rupees.\n",
    "- These observations suggest that the second cluster is made up of middle-aged, well-educated, and well-paid professionals who are looking for expensive cars. The most popular cars in the cluster are SUVs, which are large and luxurious cars that are popular with families.\n",
    "\n",
    "Conclusion\n",
    "As you can see, the two clusters are quite different in terms of their demographics and purchase behavior. Cluster 1 is made up of younger, less well-off professionals who are looking for affordable cars. Cluster 2 is made up of middle-aged, well-off professionals who are looking for expensive cars.\n",
    "\n",
    "Here are some of the key differences between the two clusters:\n",
    "\n",
    "- Age: The average age of the buyers in Cluster 1 is 30, while the average age of the buyers in Cluster 2 is 40. This suggests that Cluster 1 is made up of younger professionals, while Cluster 2 is made up of more experienced professionals.\n",
    "- Income: The average total salary of the buyers in Cluster 1 is 1600000, while the average total salary of the buyers in Cluster 2 is 2500000. This suggests that Cluster 1 is made up of less well-off professionals, while Cluster 2 is made up of more well-off professionals.\n",
    "- Car preference: The most popular make of car in Cluster 1 is Baleno, Ciaz, and Creata, which are all relatively affordable cars. The most popular make of car in Cluster 2 is SUV, which are typically more expensive cars.\n",
    "These differences suggest that the two clusters are looking for different things in a car. Cluster 1 is looking for an affordable car that is reliable and fuel-efficient. Cluster 2 is looking for a more luxurious and powerful car that can accommodate their families."
   ]
  },
  {
   "cell_type": "code",
   "execution_count": null,
   "id": "93330f6b",
   "metadata": {},
   "outputs": [],
   "source": []
  }
 ],
 "metadata": {
  "kernelspec": {
   "display_name": "Python 3 (ipykernel)",
   "language": "python",
   "name": "python3"
  },
  "language_info": {
   "codemirror_mode": {
    "name": "ipython",
    "version": 3
   },
   "file_extension": ".py",
   "mimetype": "text/x-python",
   "name": "python",
   "nbconvert_exporter": "python",
   "pygments_lexer": "ipython3",
   "version": "3.11.4"
  }
 },
 "nbformat": 4,
 "nbformat_minor": 5
}
